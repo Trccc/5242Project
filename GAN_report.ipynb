{
 "cells": [
  {
   "cell_type": "code",
   "execution_count": 1,
   "metadata": {},
   "outputs": [
    {
     "name": "stderr",
     "output_type": "stream",
     "text": [
      "Using TensorFlow backend.\n"
     ]
    }
   ],
   "source": [
    "%matplotlib inline\n",
    "import matplotlib\n",
    "import tensorflow as tf\n",
    "import glob\n",
    "import imageio\n",
    "import matplotlib.pyplot as plt\n",
    "import numpy as np\n",
    "import pandas as pd\n",
    "import os\n",
    "import PIL\n",
    "from tensorflow.keras import layers\n",
    "import time\n",
    "from IPython import display\n",
    "import IPython\n",
    "import tensorflow_datasets as tfds\n",
    "from pytz import timezone\n",
    "from datetime import datetime\n",
    "import scipy.io as sio\n",
    "import math\n",
    "from IPython.display import Image\n",
    "from skimage.transform import resize\n",
    "from numpy.random import shuffle\n",
    "from keras.applications.inception_v3 import InceptionV3\n",
    "from keras.applications.inception_v3 import preprocess_input"
   ]
  },
  {
   "cell_type": "markdown",
   "metadata": {},
   "source": [
    "## Help functions\n",
    "### Inception score"
   ]
  },
  {
   "cell_type": "code",
   "execution_count": 2,
   "metadata": {},
   "outputs": [],
   "source": [
    "def scale_images(images, new_shape):\n",
    "    images_list = list()\n",
    "    for image in images:\n",
    "        new_image = resize(image, new_shape, 0)\n",
    "        images_list.append(new_image)\n",
    "    return np.asarray(images_list)\n",
    "\n",
    "# input images have the shape 299x299x3, pixels in [0,255]\n",
    "def calculate_inception_score(images, n_split=10, eps=1E-16):\n",
    "    model = InceptionV3()\n",
    "    scores = list()\n",
    "    n_part = math.floor(images.shape[0] / n_split)\n",
    "    for i in range(n_split):\n",
    "        ix_start, ix_end = i * n_part, (i + 1) * n_part\n",
    "        subset = images[int(ix_start):int(ix_end)]\n",
    "        subset = scale_images(subset, (299, 299, 3))\n",
    "        subset = subset.astype('float32')\n",
    "        subset = preprocess_input(subset)\n",
    "        p_yx = model.predict(subset)\n",
    "        p_y = np.expand_dims(p_yx.mean(axis=0), 0)\n",
    "        kl_d = p_yx * (np.log(p_yx + eps) - np.log(p_y + eps))\n",
    "        sum_kl_d = kl_d.sum(axis=1)\n",
    "        avg_kl_d = np.mean(sum_kl_d)\n",
    "        is_score = np.exp(avg_kl_d)\n",
    "        scores.append(is_score)\n",
    "    is_avg, is_std = np.mean(scores), np.std(scores)\n",
    "    return is_avg, is_std\n",
    "\n",
    "def IS(model, n_sample, noise_dim): \n",
    "    new_seed = tf.random.normal([n_sample, noise_dim])\n",
    "    predictions = model(new_seed, training=False)\n",
    "    predictions = (predictions + 1) / 2 * 255\n",
    "    is_avg, is_std = calculate_inception_score(predictions)\n",
    "    print('score is {} +- {}'.format(is_avg, is_std))\n",
    "    return is_avg, is_std"
   ]
  },
  {
   "cell_type": "markdown",
   "metadata": {},
   "source": [
    "### Loss\n",
    "label smooth and random noise"
   ]
  },
  {
   "cell_type": "code",
   "execution_count": 3,
   "metadata": {},
   "outputs": [],
   "source": [
    "def discriminator_loss(real_output, fake_output):\n",
    "    # add noise\n",
    "    if tf.random.uniform([1]) < 0.05:\n",
    "        real_output, fake_output = fake_output, real_output\n",
    "    # add label smoothing\n",
    "    real_loss = tf.keras.losses.BinaryCrossentropy(label_smoothing=0.1, from_logits=True)(tf.ones_like(real_output), real_output)\n",
    "    fake_loss = tf.keras.losses.BinaryCrossentropy(label_smoothing=0.1, from_logits=True)(tf.zeros_like(fake_output), fake_output)\n",
    "    total_loss = real_loss + fake_loss\n",
    "    return total_loss\n",
    "\n",
    "def generator_loss(fake_output):\n",
    "    return tf.keras.losses.BinaryCrossentropy(from_logits=True)(tf.ones_like(fake_output), fake_output)"
   ]
  },
  {
   "cell_type": "markdown",
   "metadata": {},
   "source": [
    "### Data preprocessing and plot save"
   ]
  },
  {
   "cell_type": "code",
   "execution_count": 4,
   "metadata": {},
   "outputs": [],
   "source": [
    "def generate_and_save_images(model, epoch, test_input,savedir):\n",
    "\n",
    "    predictions = model(test_input, training=False)\n",
    "    fig = plt.figure(figsize=(4, 4))\n",
    "\n",
    "    for i in range(predictions.shape[0]):\n",
    "        plt.subplot(4, 4, i+1)\n",
    "        if DATA == 'mnist':\n",
    "            plt.imshow(np.uint8(predictions[i, :, :, 0] * 127.5 + 127.5), cmap='gray')\n",
    "        elif DATA.lower() == 'svhn':\n",
    "            plt.imshow(np.uint8(predictions[i, :, :, :] * 127.5 + 127.5))\n",
    "        plt.axis('off')\n",
    "    path = os.path.join(savedir, 'image_at_epoch_{:04d}.png'.format(epoch))\n",
    "    plt.savefig(path)\n",
    "    plt.close('all')\n",
    "\n",
    "    \n",
    "@tf.function\n",
    "def format_example(data):\n",
    "    image = data[\"image\"]\n",
    "    image =  tf.cast(image, tf.float32)\n",
    "    image = (image - 127.5) / 127.5 \n",
    "    image = tf.image.resize(image,[32,32])\n",
    "    return image\n",
    "\n",
    "def get_train_data(name = 'svhn'):\n",
    "    \n",
    "    if name.lower() == 'svhn':\n",
    "        (train_data,_), info = tfds.load(name=\"svhn_cropped\", split=[\"train\",\"test\"], shuffle_files=True, with_info=True )\n",
    "        return train_data.map(format_example).shuffle(50000).batch(64)\n",
    "    \n",
    "    elif name.lower() =='mnist':\n",
    "        \n",
    "        (train_images, train_labels), (_, _) = tf.keras.datasets.mnist.load_data()\n",
    "        train_images = train_images.reshape(train_images.shape[0], 28, 28, 1).astype('float32')\n",
    "        train_images = (train_images - 127.5) / 127.5\n",
    "        train_images = tf.data.Dataset.from_tensor_slices(train_images).shuffle(50000).batch(64)\n",
    "        return train_images"
   ]
  },
  {
   "cell_type": "markdown",
   "metadata": {},
   "source": [
    "### Model structures"
   ]
  },
  {
   "cell_type": "code",
   "execution_count": 5,
   "metadata": {},
   "outputs": [],
   "source": [
    "def make_generator_model_mnist():\n",
    "    model = tf.keras.Sequential()\n",
    "    model.add(layers.Dense(7 * 7 * 256, use_bias=False, input_shape=(100,)))\n",
    "    model.add(layers.BatchNormalization())\n",
    "    model.add(layers.ReLU())\n",
    "\n",
    "    model.add(layers.Reshape((7, 7, 256)))\n",
    "    model.add(layers.Conv2DTranspose(128, (3, 3), strides=(1, 1), padding='same', use_bias=False))\n",
    "    model.add(layers.BatchNormalization())\n",
    "    model.add(layers.ReLU())\n",
    "\n",
    "    model.add(layers.Conv2DTranspose(64, (3, 3), strides=(2, 2), padding='same', use_bias=False))\n",
    "    model.add(layers.BatchNormalization())\n",
    "    model.add(layers.ReLU())\n",
    "\n",
    "    model.add(layers.Conv2DTranspose(1, (3, 3), strides=(2, 2), padding='same', use_bias=False, activation='tanh'))\n",
    "    assert model.output_shape == (None, 28, 28, 1)\n",
    "\n",
    "    return model\n",
    "\n",
    "def make_discriminator_model_mnist():\n",
    "    model = tf.keras.Sequential()\n",
    "    model.add(layers.Conv2D(128, (3, 3), strides=(2, 2), padding='same',\n",
    "                                     input_shape=[28, 28, 1]))\n",
    "    model.add(layers.BatchNormalization())\n",
    "    model.add(layers.LeakyReLU(0.2))\n",
    "    model.add(layers.Dropout(0.3))\n",
    "\n",
    "    model.add(layers.Conv2D(256, (3, 3), strides=(2, 2), padding='same'))\n",
    "    model.add(layers.BatchNormalization())\n",
    "    model.add(layers.LeakyReLU(0.2))\n",
    "    model.add(layers.Dropout(0.3))\n",
    "    \n",
    "    model.add(layers.Conv2D(512, (3, 3), strides=(2, 2), padding='same'))\n",
    "    model.add(layers.BatchNormalization())\n",
    "    model.add(layers.LeakyReLU(0.2))\n",
    "    model.add(layers.Dropout(0.3))\n",
    "\n",
    "    model.add(layers.Flatten())\n",
    "    model.add(layers.Dense(1))\n",
    "\n",
    "    return model\n",
    "\n",
    "def make_generator_model_svhn():\n",
    "    model = tf.keras.Sequential()\n",
    "    model.add(layers.Dense(4 * 4 * 256, use_bias=False, input_shape=(100,)))\n",
    "    model.add(layers.BatchNormalization())\n",
    "    model.add(layers.ReLU())\n",
    "    \n",
    "    model.add(layers.Reshape((4, 4, 256)))\n",
    "    model.add(layers.Conv2DTranspose(128, (4, 4), strides=(2, 2), padding='same', use_bias=False))\n",
    "    model.add(layers.BatchNormalization())\n",
    "    model.add(layers.ReLU())\n",
    "\n",
    "    model.add(layers.Conv2DTranspose(64, (4, 4), strides=(2, 2), padding='same', use_bias=False))\n",
    "    model.add(layers.BatchNormalization())\n",
    "    model.add(layers.ReLU())\n",
    "\n",
    "    model.add(layers.Conv2DTranspose(3, (4, 4), strides=(2, 2), padding='same', use_bias=False, activation='tanh'))\n",
    "    \n",
    "    return model\n",
    "\n",
    "def make_discriminator_model_svhn():\n",
    "    model = tf.keras.Sequential()\n",
    "    model.add(layers.Conv2D(128, (4, 4), strides=(1, 1), padding='same', use_bias=False, input_shape=[32, 32, 3]))\n",
    "    model.add(layers.BatchNormalization())\n",
    "    model.add(layers.AveragePooling2D(pool_size = (2,2)))\n",
    "    model.add(layers.LeakyReLU(0.2))\n",
    "    model.add(layers.Dropout(0.3))\n",
    "\n",
    "    model.add(layers.Conv2D(256, (4, 4), strides=(1, 1),padding='same', use_bias=False))\n",
    "    model.add(layers.BatchNormalization())\n",
    "    model.add(layers.AveragePooling2D(pool_size = (2,2)))\n",
    "    model.add(layers.LeakyReLU(0.2))\n",
    "    model.add(layers.Dropout(0.3))\n",
    "\n",
    "    model.add(layers.Conv2D(512, (4, 4), strides=(1, 1),use_bias=False, padding='same'))\n",
    "    model.add(layers.BatchNormalization())\n",
    "    model.add(layers.AveragePooling2D(pool_size = (2,2)))\n",
    "    model.add(layers.LeakyReLU(0.2))\n",
    "    model.add(layers.Dropout(0.3))\n",
    "    \n",
    "    model.add(layers.Flatten())\n",
    "    model.add(layers.Dense(1))\n",
    "\n",
    "    return model"
   ]
  },
  {
   "cell_type": "markdown",
   "metadata": {},
   "source": [
    "### Training function"
   ]
  },
  {
   "cell_type": "code",
   "execution_count": 6,
   "metadata": {},
   "outputs": [],
   "source": [
    "@tf.function\n",
    "def train_step(images):\n",
    "    noise = tf.random.normal([64, 100])\n",
    "    \n",
    "    g_loss = generator_loss\n",
    "    d_loss = discriminator_loss\n",
    "        \n",
    "    with tf.GradientTape() as gen_tape, tf.GradientTape() as disc_tape:\n",
    "        generated_images = generator(noise, training=True)\n",
    "\n",
    "        real_output = discriminator(images, training=True)\n",
    "        fake_output = discriminator(generated_images, training=True)\n",
    "\n",
    "        gen_loss = g_loss(fake_output)\n",
    "        disc_loss = d_loss(real_output, fake_output)\n",
    "\n",
    "    gradients_of_generator = gen_tape.gradient(gen_loss, generator.trainable_variables)\n",
    "    gradients_of_discriminator = disc_tape.gradient(disc_loss, discriminator.trainable_variables)\n",
    "\n",
    "    generator_optimizer.apply_gradients(zip(gradients_of_generator, generator.trainable_variables))\n",
    "    discriminator_optimizer.apply_gradients(zip(gradients_of_discriminator, discriminator.trainable_variables))\n",
    "    \n",
    "    return gen_loss, disc_loss    \n",
    "    \n",
    "def train(dataset, epochs, savedir):\n",
    "    IS_mean = []\n",
    "    IS_std = []\n",
    "    G_loss = []\n",
    "    D_loss = []\n",
    "    for epoch in range(epochs):\n",
    "        start = time.time()\n",
    "        i = 0\n",
    "        g_loss = 0\n",
    "        d_loss = 0\n",
    "        for image_batch in dataset:\n",
    "            i += 1\n",
    "            g_tensor, d_tensor = train_step(image_batch)\n",
    "            g_loss += float(g_tensor.numpy())\n",
    "            d_loss += float(d_tensor.numpy())\n",
    "        \n",
    "        G_loss.append(g_loss / i)\n",
    "        D_loss.append(d_loss / i)\n",
    "        # Produce images for the GIF\n",
    "        display.clear_output(wait=True)\n",
    "        generate_and_save_images(generator, epoch + 1, seed,savedir)\n",
    "        \n",
    "        # Save the model every 10 epochs\n",
    "        if (epoch + 1) % 10 == 0:\n",
    "            mean, std = IS(generator, 1000, 100)\n",
    "            IS_mean.append(mean)\n",
    "            IS_std.append(std)\n",
    "            checkpoint.save(file_prefix = checkpoint_prefix)\n",
    "            \n",
    "        with train_summary_writer.as_default():\n",
    "            tf.summary.scalar('loss', G_loss[-1], step=epoch)\n",
    "        with test_summary_writer.as_default():\n",
    "            tf.summary.scalar('loss', D_loss[-1], step=epoch) \n",
    "        print ('Time for epoch {} is {} sec'.format(epoch + 1, time.time()-start))\n",
    "    # clear outputs\n",
    "    display.clear_output(wait=True)\n",
    "    \n",
    "    # save IS score and Loss plot\n",
    "    IS_mean = np.array(IS_mean)\n",
    "    IS_std = np.array(IS_std)\n",
    "    IS_df = pd.DataFrame({'mean':IS_mean, 'mean+std':IS_mean+IS_std, 'mean-std':IS_mean-IS_std, 'std':IS_std})\n",
    "    IS_df.index = [5 * (x + 1) for x in range(IS_df.shape[0])]\n",
    "    Loss_df = pd.DataFrame({'Generater':G_loss, 'Discriminator':D_loss})\n",
    "    \n",
    "    df_path = os.path.join(savedir, 'IS_score.csv')\n",
    "    IS_df.to_csv(path_or_buf=df_path, index=False)\n",
    "    df_path2 = os.path.join(savedir, 'Loss.csv')\n",
    "    Loss_df.to_csv(path_or_buf=df_path2, index=False)\n",
    "    print('Inception score and loss save complete')\n",
    "    \n",
    "    path = os.path.join(savedir, 'IS_score_trend.png')\n",
    "    fig = plt.figure(figsize=(6, 6))\n",
    "    plt.plot(IS_df[['mean','mean+std','mean-std']])\n",
    "    plt.title('Inception Scores')\n",
    "    plt.legend(IS_df[['mean','mean+std','mean-std']].columns, loc='best')\n",
    "    plt.savefig(path)\n",
    "    #plt.close('all')\n",
    "    \n",
    "    path2 = os.path.join(savedir, 'Loss_trend.png')\n",
    "    fig2 = plt.figure(figsize=(6, 6))\n",
    "    plt.plot(Loss_df)\n",
    "    plt.title('Validation Losses')\n",
    "    plt.legend(Loss_df.columns, loc='best')\n",
    "    plt.savefig(path2)\n",
    "    \n",
    "    # Generate after the final epoch\n",
    "    generate_and_save_images(generator, epochs, seed,savedir)"
   ]
  },
  {
   "cell_type": "code",
   "execution_count": 7,
   "metadata": {},
   "outputs": [],
   "source": [
    "(train_mnist,_),(_,_) = tf.keras.datasets.mnist.load_data(path='mnist.npz')"
   ]
  },
  {
   "cell_type": "code",
   "execution_count": 8,
   "metadata": {},
   "outputs": [
    {
     "data": {
      "image/png": "[encoded data removed]",
      "text/plain": [
       "<Figure size 720x576 with 80 Axes>"
      ]
     },
     "metadata": {},
     "output_type": "display_data"
    }
   ],
   "source": [
    "plt.figure(figsize=(10, 8))\n",
    "for i in range(80):\n",
    "    plt.subplot(8, 10, i + 1)\n",
    "    plt.imshow(train_mnist[i], cmap='gray')\n",
    "    plt.xticks([])\n",
    "    plt.yticks([])\n",
    "plt.tight_layout()\n",
    "plt.show()\n",
    "del train_mnist"
   ]
  },
  {
   "cell_type": "code",
   "execution_count": 9,
   "metadata": {},
   "outputs": [],
   "source": [
    "generator = make_generator_model_mnist()\n",
    "discriminator = make_discriminator_model_mnist()"
   ]
  },
  {
   "cell_type": "code",
   "execution_count": 10,
   "metadata": {},
   "outputs": [],
   "source": [
    "train_data = get_train_data('mnist')"
   ]
  },
  {
   "cell_type": "code",
   "execution_count": 11,
   "metadata": {},
   "outputs": [
    {
     "data": {
      "text/plain": [
       "<matplotlib.image.AxesImage at 0x7f07480634a8>"
      ]
     },
     "execution_count": 11,
     "metadata": {},
     "output_type": "execute_result"
    },
    {
     "data": {
      "image/png": "[encoded data removed]",
      "text/plain": [
       "<Figure size 432x288 with 1 Axes>"
      ]
     },
     "metadata": {
      "needs_background": "light"
     },
     "output_type": "display_data"
    }
   ],
   "source": [
    "noise = tf.random.normal([1, 100])\n",
    "generated_image = generator(noise,training = False)\n",
    "plt.imshow(generated_image[0, :, :, 0], cmap = 'gray')"
   ]
  },
  {
   "cell_type": "code",
   "execution_count": 12,
   "metadata": {},
   "outputs": [],
   "source": [
    "generator_optimizer = tf.keras.optimizers.Adam(learning_rate = 1e-4, beta_1 = 0.5, beta_2 = 0.99999)\n",
    "discriminator_optimizer = tf.keras.optimizers.Adam(learning_rate =1e-4, beta_1 = 0.5, beta_2 = 0.99999)"
   ]
  },
  {
   "cell_type": "code",
   "execution_count": 13,
   "metadata": {},
   "outputs": [],
   "source": [
    "EPOCHS = 50\n",
    "noise_dim = 100\n",
    "num_examples_to_generate = 16\n",
    "seed = tf.random.normal([num_examples_to_generate, noise_dim])"
   ]
  },
  {
   "cell_type": "code",
   "execution_count": 14,
   "metadata": {},
   "outputs": [
    {
     "name": "stdout",
     "output_type": "stream",
     "text": [
      "saveimage/12_14_19_28\n"
     ]
    }
   ],
   "source": [
    "now = datetime.now(timezone('US/Eastern'))\n",
    "\n",
    "subfile = now.strftime(\"%m_%d_%H_%M\")\n",
    "filedir = os.path.join('saveimage',subfile)\n",
    "\n",
    "checkpoint_dir = filedir\n",
    "checkpoint_prefix = os.path.join(checkpoint_dir, \"ckpt\")\n",
    "checkpoint = tf.train.Checkpoint(generator_optimizer=generator_optimizer,\n",
    "                                 discriminator_optimizer=discriminator_optimizer,\n",
    "                                 generator=generator,\n",
    "                                 discriminator=discriminator)\n",
    "\n",
    "if (not os.path.exists('saveimage')):\n",
    "    os.mkdir('saveimage')\n",
    "if (not os.path.isfile(filedir)):\n",
    "    os.mkdir(filedir)\n",
    "\n",
    "savedir = filedir\n",
    "print(savedir)"
   ]
  },
  {
   "cell_type": "code",
   "execution_count": 15,
   "metadata": {},
   "outputs": [],
   "source": [
    "current_time = datetime.now().strftime(\"%Y%m%d-%H%M%S\")\n",
    "gen_log_dir = 'logs/gradient_tape/' + current_time + '/gen'\n",
    "disc_log_dir = 'logs/gradient_tape/' + current_time + '/disc'\n",
    "train_summary_writer = tf.summary.create_file_writer(gen_log_dir)\n",
    "test_summary_writer = tf.summary.create_file_writer(disc_log_dir)"
   ]
  },
  {
   "cell_type": "code",
   "execution_count": 16,
   "metadata": {},
   "outputs": [
    {
     "name": "stdout",
     "output_type": "stream",
     "text": [
      "Inception score and loss save complete\n"
     ]
    }
   ],
   "source": [
    "DATA = 'mnist'\n",
    "train(train_data, EPOCHS,savedir)"
   ]
  },
  {
   "cell_type": "code",
   "execution_count": 17,
   "metadata": {},
   "outputs": [
    {
     "data": {
      "image/png": "[encoded data removed]",
      "text/plain": [
       "<IPython.core.display.Image object>"
      ]
     },
     "execution_count": 17,
     "metadata": {},
     "output_type": "execute_result"
    }
   ],
   "source": [
    "from IPython.display import Image\n",
    "Image(filename=(savedir + '/IS_score_trend.png'))"
   ]
  },
  {
   "cell_type": "code",
   "execution_count": 18,
   "metadata": {},
   "outputs": [
    {
     "data": {
      "image/png": "[encoded data removed]",
      "text/plain": [
       "<IPython.core.display.Image object>"
      ]
     },
     "execution_count": 18,
     "metadata": {},
     "output_type": "execute_result"
    }
   ],
   "source": [
    "Image(filename=(savedir + '/Loss_trend.png'))"
   ]
  },
  {
   "cell_type": "code",
   "execution_count": 19,
   "metadata": {},
   "outputs": [],
   "source": [
    "#display.Image('mnist.png')"
   ]
  },
  {
   "cell_type": "code",
   "execution_count": 24,
   "metadata": {},
   "outputs": [],
   "source": [
    "anim_file = subfile+'gan.gif'\n",
    "with imageio.get_writer(anim_file, mode='I') as writer:\n",
    "    filenames = glob.glob(filedir+'/image*.png')\n",
    "    filenames = sorted(filenames)\n",
    "    last = -1\n",
    "    for i,filename in enumerate(filenames):\n",
    "        frame = 2*(i**0.5)\n",
    "        if round(frame) > round(last):\n",
    "            last = frame\n",
    "        else:\n",
    "            continue\n",
    "        image = imageio.imread(filename)\n",
    "        writer.append_data(image)\n",
    "    image = imageio.imread(filename)\n",
    "    writer.append_data(image)"
   ]
  },
  {
   "cell_type": "code",
   "execution_count": 21,
   "metadata": {},
   "outputs": [
    {
     "data": {
      "image/png": "[encoded data removed]",
      "text/plain": [
       "<IPython.core.display.Image object>"
      ]
     },
     "execution_count": 21,
     "metadata": {},
     "output_type": "execute_result"
    }
   ],
   "source": [
    "display.Image(savedir + '/image_at_epoch_{:04d}.png'.format(EPOCHS))"
   ]
  },
  {
   "cell_type": "code",
   "execution_count": 32,
   "metadata": {},
   "outputs": [],
   "source": [
    "#Image(filename='12_14_17_54gan.gif.png')"
   ]
  },
  {
   "cell_type": "markdown",
   "metadata": {},
   "source": [
    "Above are generated image samples from our DCGAN. Though the digits do not look exactly the same as real data, most of them can be recognized correctly as a number digit similiar to Figure 2a in the paper."
   ]
  },
  {
   "cell_type": "code",
   "execution_count": 33,
   "metadata": {},
   "outputs": [
    {
     "ename": "ImportError",
     "evalue": "No module named 'nvidia_smi'",
     "output_type": "error",
     "traceback": [
      "\u001b[0;31m---------------------------------------------------------------------------\u001b[0m",
      "\u001b[0;31mImportError\u001b[0m                               Traceback (most recent call last)",
      "\u001b[0;32m<ipython-input-33-a778e23f354e>\u001b[0m in \u001b[0;36m<module>\u001b[0;34m\u001b[0m\n\u001b[0;32m----> 1\u001b[0;31m \u001b[0;32mimport\u001b[0m \u001b[0mnvidia_smi\u001b[0m\u001b[0;34m\u001b[0m\u001b[0m\n\u001b[0m\u001b[1;32m      2\u001b[0m \u001b[0;34m\u001b[0m\u001b[0m\n\u001b[1;32m      3\u001b[0m \u001b[0mnvidia_smi\u001b[0m\u001b[0;34m.\u001b[0m\u001b[0mnvmlInit\u001b[0m\u001b[0;34m(\u001b[0m\u001b[0;34m)\u001b[0m\u001b[0;34m\u001b[0m\u001b[0m\n\u001b[1;32m      4\u001b[0m \u001b[0;34m\u001b[0m\u001b[0m\n\u001b[1;32m      5\u001b[0m \u001b[0mhandle\u001b[0m \u001b[0;34m=\u001b[0m \u001b[0mnvidia_smi\u001b[0m\u001b[0;34m.\u001b[0m\u001b[0mnvmlDeviceGetHandleByIndex\u001b[0m\u001b[0;34m(\u001b[0m\u001b[0;36m0\u001b[0m\u001b[0;34m)\u001b[0m\u001b[0;34m\u001b[0m\u001b[0m\n",
      "\u001b[0;31mImportError\u001b[0m: No module named 'nvidia_smi'"
     ]
    }
   ],
   "source": [
    "import nvidia_smi\n",
    "\n",
    "nvidia_smi.nvmlInit()\n",
    "\n",
    "handle = nvidia_smi.nvmlDeviceGetHandleByIndex(0)\n",
    "# card id 0 hardcoded here, there is also a call to get all available card ids, so we could iterate\n",
    "\n",
    "info = nvidia_smi.nvmlDeviceGetMemoryInfo(handle)\n",
    "\n",
    "print(\"Total memory:\", info.total)\n",
    "print(\"Free memory:\", info.free)\n",
    "print(\"Used memory:\", info.used)\n",
    "\n",
    "nvidia_smi.nvmlShutdown()"
   ]
  },
  {
   "cell_type": "code",
   "execution_count": null,
   "metadata": {},
   "outputs": [],
   "source": [
    "(train_data,_) = tfds.load(name=\"svhn_cropped\", split=[\"train\",\"test\"], shuffle_files=True )\n",
    "train_iter = iter(train_data)\n",
    "plt.figure(figsize=(10, 8))\n",
    "for i in range(80):\n",
    "    plt.subplot(8, 10, i+1)\n",
    "    plt.imshow(next(train_iter)['image'])\n",
    "    plt.xticks([])\n",
    "    plt.yticks([])\n",
    "plt.tight_layout()\n",
    "plt.show()\n",
    "del train_data"
   ]
  },
  {
   "cell_type": "code",
   "execution_count": null,
   "metadata": {},
   "outputs": [],
   "source": [
    "generator = make_generator_model_svhn()\n",
    "discriminator = make_discriminator_model_svhn()"
   ]
  },
  {
   "cell_type": "code",
   "execution_count": null,
   "metadata": {},
   "outputs": [],
   "source": [
    "train_data = get_train_data('svhn')"
   ]
  },
  {
   "cell_type": "code",
   "execution_count": null,
   "metadata": {},
   "outputs": [],
   "source": [
    "noise = tf.random.normal([1, 100])\n",
    "generated_image = generator(noise, training=False)\n",
    "plt.imshow((generated_image[0, :, :, :]* 127.5 + 127.5)/255)"
   ]
  },
  {
   "cell_type": "code",
   "execution_count": null,
   "metadata": {},
   "outputs": [],
   "source": [
    "now = datetime.now(timezone('US/Eastern'))\n",
    "subfile = now.strftime(\"%m_%d_%H_%M\")\n",
    "filedir = os.path.join('saveimage',subfile)\n",
    "\n",
    "checkpoint_dir = filedir\n",
    "checkpoint_prefix = os.path.join(checkpoint_dir, \"ckpt\")\n",
    "checkpoint = tf.train.Checkpoint(generator_optimizer=generator_optimizer,\n",
    "                                 discriminator_optimizer=discriminator_optimizer,\n",
    "                                 generator=generator,\n",
    "                                 discriminator=discriminator)\n",
    "\n",
    "if (not os.path.exists('saveimage')):\n",
    "    os.mkdir('saveimage')\n",
    "\n",
    "if (not os.path.isfile(filedir)):\n",
    "    os.mkdir(filedir)\n",
    "\n",
    "savedir = filedir\n",
    "print(savedir)"
   ]
  },
  {
   "cell_type": "code",
   "execution_count": null,
   "metadata": {},
   "outputs": [],
   "source": [
    "@tf.function\n",
    "def train_step(images):\n",
    "    noise = tf.random.normal([64, 100])\n",
    "    \n",
    "    g_loss = generator_loss\n",
    "    d_loss = discriminator_loss\n",
    "        \n",
    "    with tf.GradientTape() as gen_tape, tf.GradientTape() as disc_tape:\n",
    "        generated_images = generator(noise, training=True)\n",
    "\n",
    "        real_output = discriminator(images, training=True)\n",
    "        fake_output = discriminator(generated_images, training=True)\n",
    "\n",
    "        gen_loss = g_loss(fake_output)\n",
    "        disc_loss = d_loss(real_output, fake_output)\n",
    "\n",
    "    gradients_of_generator = gen_tape.gradient(gen_loss, generator.trainable_variables)\n",
    "    gradients_of_discriminator = disc_tape.gradient(disc_loss, discriminator.trainable_variables)\n",
    "\n",
    "    generator_optimizer.apply_gradients(zip(gradients_of_generator, generator.trainable_variables))\n",
    "    discriminator_optimizer.apply_gradients(zip(gradients_of_discriminator, discriminator.trainable_variables))\n",
    "    \n",
    "    return gen_loss, disc_loss    \n",
    "    \n",
    "def train(dataset, epochs, savedir):\n",
    "    IS_mean = []\n",
    "    IS_std = []\n",
    "    G_loss = []\n",
    "    D_loss = []\n",
    "    for epoch in range(epochs):\n",
    "        start = time.time()\n",
    "        i = 0\n",
    "        g_loss = 0\n",
    "        d_loss = 0\n",
    "        for image_batch in dataset:\n",
    "            i += 1\n",
    "            g_tensor, d_tensor = train_step(image_batch)\n",
    "            g_loss += float(g_tensor.numpy())\n",
    "            d_loss += float(d_tensor.numpy())\n",
    "        \n",
    "        G_loss.append(g_loss / i)\n",
    "        D_loss.append(d_loss / i)\n",
    "        # Produce images for the GIF\n",
    "        display.clear_output(wait=True)\n",
    "        generate_and_save_images(generator, epoch + 1, seed,savedir)\n",
    "        \n",
    "        # Save the model every 10 epochs\n",
    "        if (epoch + 1) % 10 == 0:\n",
    "            mean, std = IS(generator, 1000, 100)\n",
    "            IS_mean.append(mean)\n",
    "            IS_std.append(std)\n",
    "            checkpoint.save(file_prefix = checkpoint_prefix)\n",
    "            \n",
    "        with train_summary_writer.as_default():\n",
    "            tf.summary.scalar('loss', G_loss[-1], step=epoch)\n",
    "        with test_summary_writer.as_default():\n",
    "            tf.summary.scalar('loss', D_loss[-1], step=epoch) \n",
    "        print ('Time for epoch {} is {} sec'.format(epoch + 1, time.time()-start))\n",
    "    # clear outputs\n",
    "    display.clear_output(wait=True)\n",
    "    \n",
    "    # save IS score and Loss plot\n",
    "    IS_mean = np.array(IS_mean)\n",
    "    IS_std = np.array(IS_std)\n",
    "    IS_df = pd.DataFrame({'mean':IS_mean, 'mean+std':IS_mean+IS_std, 'mean-std':IS_mean-IS_std, 'std':IS_std})\n",
    "    IS_df.index = [5 * (x + 1) for x in range(IS_df.shape[0])]\n",
    "    Loss_df = pd.DataFrame({'Generater':G_loss, 'Discriminator':D_loss})\n",
    "    \n",
    "    df_path = os.path.join(savedir, 'IS_score.csv')\n",
    "    IS_df.to_csv(path_or_buf=df_path, index=False)\n",
    "    df_path2 = os.path.join(savedir, 'Loss.csv')\n",
    "    Loss_df.to_csv(path_or_buf=df_path2, index=False)\n",
    "    print('Inception score and loss save complete')\n",
    "    \n",
    "    path = os.path.join(savedir, 'IS_score_trend.png')\n",
    "    fig = plt.figure(figsize=(6, 6))\n",
    "    plt.plot(IS_df[['mean','mean+std','mean-std']])\n",
    "    plt.title('Inception Scores')\n",
    "    plt.legend(IS_df[['mean','mean+std','mean-std']].columns, loc='best')\n",
    "    plt.savefig(path)\n",
    "    #plt.close('all')\n",
    "    \n",
    "    path2 = os.path.join(savedir, 'Loss_trend.png')\n",
    "    fig2 = plt.figure(figsize=(6, 6))\n",
    "    plt.plot(Loss_df)\n",
    "    plt.title('Validation Losses')\n",
    "    plt.legend(Loss_df.columns, loc='best')\n",
    "    plt.savefig(path2)\n",
    "    \n",
    "    # Generate after the final epoch\n",
    "    generate_and_save_images(generator, epochs, seed,savedir)"
   ]
  },
  {
   "cell_type": "code",
   "execution_count": null,
   "metadata": {},
   "outputs": [],
   "source": [
    "current_time = datetime.now().strftime(\"%Y%m%d-%H%M%S\")\n",
    "gen_log_dir = 'logs/gradient_tape/' + current_time + '/gen'\n",
    "disc_log_dir = 'logs/gradient_tape/' + current_time + '/disc'\n",
    "train_summary_writer = tf.summary.create_file_writer(gen_log_dir)\n",
    "test_summary_writer = tf.summary.create_file_writer(disc_log_dir)"
   ]
  },
  {
   "cell_type": "code",
   "execution_count": null,
   "metadata": {},
   "outputs": [],
   "source": [
    "DATA = 'svhn'\n",
    "train(train_data, EPOCHS, savedir)"
   ]
  },
  {
   "cell_type": "code",
   "execution_count": null,
   "metadata": {},
   "outputs": [],
   "source": [
    "Image(filename=(savedir + '/IS_score_trend.png'))"
   ]
  },
  {
   "cell_type": "code",
   "execution_count": null,
   "metadata": {},
   "outputs": [],
   "source": [
    "Image(filename=(savedir + '/Loss_trend.png'))"
   ]
  },
  {
   "cell_type": "code",
   "execution_count": null,
   "metadata": {},
   "outputs": [],
   "source": [
    "#display.Image('svhn.png')"
   ]
  },
  {
   "cell_type": "code",
   "execution_count": null,
   "metadata": {},
   "outputs": [],
   "source": [
    "anim_file = subfile + 'gan.gif'\n",
    "with imageio.get_writer(anim_file, mode='I') as writer:\n",
    "    filenames = glob.glob(filedir + '/image*.png')\n",
    "    filenames = sorted(filenames)\n",
    "    last = -1\n",
    "    for i,filename in enumerate(filenames):\n",
    "        frame = 2 * (i ** 0.5)\n",
    "        if round(frame) > round(last):\n",
    "            last = frame\n",
    "        else:\n",
    "            continue\n",
    "        image = imageio.imread(filename)\n",
    "        writer.append_data(image)\n",
    "    image = imageio.imread(filename)\n",
    "    writer.append_data(image)"
   ]
  },
  {
   "cell_type": "code",
   "execution_count": null,
   "metadata": {},
   "outputs": [],
   "source": [
    "display.Image(savedir + '/image_at_epoch_{:04d}.png'.format(EPOCHS))"
   ]
  },
  {
   "cell_type": "code",
   "execution_count": null,
   "metadata": {},
   "outputs": [],
   "source": [
    "display.Image(filename=anim_file)"
   ]
  },
  {
   "cell_type": "code",
   "execution_count": null,
   "metadata": {},
   "outputs": [],
   "source": [
    "Image(filename=(anim_file + '.png'))"
   ]
  },
  {
   "cell_type": "markdown",
   "metadata": {},
   "source": [
    "From the loss and Inception Score plot we see that the training process goes pretty well. However, the quality of generated images is not as good as the result on the MNIST dataset. Some generated images may not be recognized clearly.  \n",
    "The reason behind could be either model issues, which means we need to tweak our model or hyperparameters. Or it could simply because of the existing of blur training samples, since the quality of training data images varys a lot from the data preview shown above."
   ]
  },
  {
   "cell_type": "code",
   "execution_count": null,
   "metadata": {},
   "outputs": [],
   "source": []
  }
 ],
 "metadata": {
  "kernelspec": {
   "display_name": "Python 3",
   "language": "python",
   "name": "python3"
  },
  "language_info": {
   "codemirror_mode": {
    "name": "ipython",
    "version": 3
   },
   "file_extension": ".py",
   "mimetype": "text/x-python",
   "name": "python",
   "nbconvert_exporter": "python",
   "pygments_lexer": "ipython3",
   "version": "3.5.3"
  }
 },
 "nbformat": 4,
 "nbformat_minor": 4
}
